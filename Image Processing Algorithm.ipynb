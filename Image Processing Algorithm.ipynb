{
 "cells": [
  {
   "cell_type": "markdown",
   "metadata": {},
   "source": [
    "# Image Processing Algorithm\n",
    "## Import\n",
    "PIL untuk ambil gambar dan numpy untuk menyimpan data dalam numpy array"
   ]
  },
  {
   "cell_type": "code",
   "execution_count": 1,
   "metadata": {},
   "outputs": [],
   "source": [
    "from PIL import Image\n",
    "import numpy as np"
   ]
  },
  {
   "cell_type": "markdown",
   "metadata": {},
   "source": [
    "## Load Sample Image"
   ]
  },
  {
   "cell_type": "code",
   "execution_count": 2,
   "metadata": {},
   "outputs": [
    {
     "ename": "FileNotFoundError",
     "evalue": "[Errno 2] No such file or directory: 'sample.jpg'",
     "output_type": "error",
     "traceback": [
      "\u001b[1;31m---------------------------------------------------------------------------\u001b[0m",
      "\u001b[1;31mFileNotFoundError\u001b[0m                         Traceback (most recent call last)",
      "\u001b[1;32m<ipython-input-2-fa19c8d26671>\u001b[0m in \u001b[0;36m<module>\u001b[1;34m\u001b[0m\n\u001b[1;32m----> 1\u001b[1;33m \u001b[0moriginal_image\u001b[0m \u001b[1;33m=\u001b[0m \u001b[0mImage\u001b[0m\u001b[1;33m.\u001b[0m\u001b[0mopen\u001b[0m\u001b[1;33m(\u001b[0m\u001b[1;34m\"sample.jpg\"\u001b[0m\u001b[1;33m)\u001b[0m\u001b[1;33m\u001b[0m\u001b[1;33m\u001b[0m\u001b[0m\n\u001b[0m\u001b[0;32m      2\u001b[0m \u001b[0mnp_original\u001b[0m \u001b[1;33m=\u001b[0m \u001b[0mnp\u001b[0m\u001b[1;33m.\u001b[0m\u001b[0marray\u001b[0m\u001b[1;33m(\u001b[0m\u001b[0moriginal_image\u001b[0m\u001b[1;33m)\u001b[0m\u001b[1;33m\u001b[0m\u001b[1;33m\u001b[0m\u001b[0m\n\u001b[0;32m      3\u001b[0m \u001b[0moriginal_image\u001b[0m\u001b[1;33m\u001b[0m\u001b[1;33m\u001b[0m\u001b[0m\n",
      "\u001b[1;32mc:\\users\\user\\appdata\\local\\programs\\python\\python38-32\\lib\\site-packages\\PIL\\Image.py\u001b[0m in \u001b[0;36mopen\u001b[1;34m(fp, mode)\u001b[0m\n\u001b[0;32m   2807\u001b[0m \u001b[1;33m\u001b[0m\u001b[0m\n\u001b[0;32m   2808\u001b[0m     \u001b[1;32mif\u001b[0m \u001b[0mfilename\u001b[0m\u001b[1;33m:\u001b[0m\u001b[1;33m\u001b[0m\u001b[1;33m\u001b[0m\u001b[0m\n\u001b[1;32m-> 2809\u001b[1;33m         \u001b[0mfp\u001b[0m \u001b[1;33m=\u001b[0m \u001b[0mbuiltins\u001b[0m\u001b[1;33m.\u001b[0m\u001b[0mopen\u001b[0m\u001b[1;33m(\u001b[0m\u001b[0mfilename\u001b[0m\u001b[1;33m,\u001b[0m \u001b[1;34m\"rb\"\u001b[0m\u001b[1;33m)\u001b[0m\u001b[1;33m\u001b[0m\u001b[1;33m\u001b[0m\u001b[0m\n\u001b[0m\u001b[0;32m   2810\u001b[0m         \u001b[0mexclusive_fp\u001b[0m \u001b[1;33m=\u001b[0m \u001b[1;32mTrue\u001b[0m\u001b[1;33m\u001b[0m\u001b[1;33m\u001b[0m\u001b[0m\n\u001b[0;32m   2811\u001b[0m \u001b[1;33m\u001b[0m\u001b[0m\n",
      "\u001b[1;31mFileNotFoundError\u001b[0m: [Errno 2] No such file or directory: 'sample.jpg'"
     ]
    }
   ],
   "source": [
    "original_image = Image.open(\"sample.jpg\")\n",
    "np_original = np.array(original_image)\n",
    "original_image"
   ]
  },
  {
   "cell_type": "markdown",
   "metadata": {},
   "source": [
    "### Data Image"
   ]
  },
  {
   "cell_type": "code",
   "execution_count": null,
   "metadata": {},
   "outputs": [],
   "source": [
    "print(\"Ukuran Image = \",end=\"\")\n",
    "print(np_original.shape)"
   ]
  },
  {
   "cell_type": "markdown",
   "metadata": {},
   "source": [
    "Artinya 256 pixel * 256 pixel dengan 3 channer (RGB)"
   ]
  },
  {
   "cell_type": "markdown",
   "metadata": {},
   "source": [
    "## Ubah ke Grayscale"
   ]
  },
  {
   "cell_type": "code",
   "execution_count": null,
   "metadata": {},
   "outputs": [],
   "source": [
    "# duplicate gambar original\n",
    "np_gray = np_original.copy()\n",
    "\n",
    "# ubah valuenya\n",
    "for row_index in range(len(np_original)):\n",
    "    for column_index in range(len(np_original)):\n",
    "        pixel = np_gray[row_index][column_index]\n",
    "        channel_r = pixel[0]\n",
    "        channel_g = pixel[1]\n",
    "        channel_b = pixel[2]\n",
    "        # buat rata-rata channel\n",
    "        channel_gray = (int(channel_r) + int(channel_g) + int(channel_b))//3\n",
    "        pixel[0] = channel_gray\n",
    "        pixel[1] = channel_gray\n",
    "        pixel[2] = channel_gray\n",
    "        np_gray[row_index][column_index] = pixel\n",
    "        \n",
    "\n",
    "gray_image = Image.fromarray(np_gray)"
   ]
  },
  {
   "cell_type": "markdown",
   "metadata": {},
   "source": [
    "### Hasil"
   ]
  },
  {
   "cell_type": "code",
   "execution_count": null,
   "metadata": {},
   "outputs": [],
   "source": [
    "gray_image"
   ]
  },
  {
   "cell_type": "markdown",
   "metadata": {},
   "source": [
    "### Coba kalau fokus ke red dan blue channel"
   ]
  },
  {
   "cell_type": "code",
   "execution_count": null,
   "metadata": {},
   "outputs": [],
   "source": [
    "# duplicate gambar original\n",
    "np_binary = np_gray.copy()\n",
    "\n",
    "# ubah valuenya\n",
    "for row_index in range(len(np_original)):\n",
    "    for column_index in range(len(np_original)):\n",
    "        pixel = np_binary[row_index][column_index]\n",
    "        channel_gray = pixel[0]\n",
    "        #ubah jadi binary\n",
    "        if channel_gray < 128 :\n",
    "            channel_gray = 0\n",
    "        else:\n",
    "            channel_gray = 255\n",
    "        pixel[0] = channel_gray\n",
    "        pixel[1] = channel_gray\n",
    "        pixel[2] = channel_gray\n",
    "        \n",
    "\n",
    "binary_image = Image.fromarray(np_binary)"
   ]
  },
  {
   "cell_type": "markdown",
   "metadata": {},
   "source": [
    "### Hasil (Threshold 128)"
   ]
  },
  {
   "cell_type": "code",
   "execution_count": null,
   "metadata": {},
   "outputs": [],
   "source": [
    "binary_image"
   ]
  },
  {
   "cell_type": "code",
   "execution_count": null,
   "metadata": {},
   "outputs": [],
   "source": [
    "# duplicate gambar original\n",
    "np_binary = np_gray.copy()\n",
    "\n",
    "# ubah valuenya\n",
    "for row_index in range(len(np_original)):\n",
    "    for column_index in range(len(np_original)):\n",
    "        pixel = np_binary[row_index][column_index]\n",
    "        channel_gray = pixel[0]\n",
    "        #ubah jadi binary\n",
    "        if channel_gray < 100 :\n",
    "            channel_gray = 0\n",
    "        else:\n",
    "            channel_gray = 255\n",
    "        pixel[0] = channel_gray\n",
    "        pixel[1] = channel_gray\n",
    "        pixel[2] = channel_gray\n",
    "        \n",
    "\n",
    "binary_image_2 = Image.fromarray(np_binary)"
   ]
  },
  {
   "cell_type": "markdown",
   "metadata": {},
   "source": [
    "### Hasil (Threshold 100)"
   ]
  },
  {
   "cell_type": "code",
   "execution_count": null,
   "metadata": {},
   "outputs": [],
   "source": [
    "binary_image_2"
   ]
  },
  {
   "cell_type": "markdown",
   "metadata": {},
   "source": [
    "## Negative Color"
   ]
  },
  {
   "cell_type": "code",
   "execution_count": null,
   "metadata": {},
   "outputs": [],
   "source": [
    "# duplicate gambar original\n",
    "np_negative_color = np_original.copy()\n",
    "\n",
    "# ubah valuenya\n",
    "for row_index in range(len(np_original)):\n",
    "    for column_index in range(len(np_original)):\n",
    "        pixel = np_negative_color[row_index][column_index]\n",
    "        pixel[0] = 255 - pixel[0]\n",
    "        pixel[1] = 255 - pixel[1]\n",
    "        pixel[2] = 255 - pixel[2]\n",
    "\n",
    "negative_color_image = Image.fromarray(np_negative_color)"
   ]
  },
  {
   "cell_type": "code",
   "execution_count": null,
   "metadata": {},
   "outputs": [],
   "source": [
    "### Hasil"
   ]
  },
  {
   "cell_type": "code",
   "execution_count": null,
   "metadata": {},
   "outputs": [],
   "source": [
    "negative_color_image"
   ]
  },
  {
   "cell_type": "markdown",
   "metadata": {},
   "source": [
    "## Negative Gray"
   ]
  },
  {
   "cell_type": "code",
   "execution_count": null,
   "metadata": {},
   "outputs": [],
   "source": [
    "# duplicate gambar original\n",
    "np_negative_gray = np_gray.copy()\n",
    "\n",
    "# ubah valuenya\n",
    "for row_index in range(len(np_original)):\n",
    "    for column_index in range(len(np_original)):\n",
    "        pixel = np_negative_gray[row_index][column_index]\n",
    "        pixel[0] = 255 - pixel[0]\n",
    "        pixel[1] = 255 - pixel[1]\n",
    "        pixel[2] = 255 - pixel[2]\n",
    "\n",
    "negative_gray_image = Image.fromarray(np_negative_gray)"
   ]
  },
  {
   "cell_type": "code",
   "execution_count": null,
   "metadata": {},
   "outputs": [],
   "source": [
    "negative_gray_image"
   ]
  },
  {
   "cell_type": "markdown",
   "metadata": {},
   "source": [
    "## Power Law"
   ]
  },
  {
   "cell_type": "code",
   "execution_count": null,
   "metadata": {},
   "outputs": [],
   "source": [
    "# duplicate gambar original\n",
    "np_power_law = np_gray.copy()\n",
    "\n",
    "# ubah valuenya\n",
    "for row_index in range(len(np_original)):\n",
    "    for column_index in range(len(np_original)):\n",
    "        pixel = np_power_law[row_index][column_index]\n",
    "        value = pixel[0]\n",
    "        value = (value/255) ** 2 * 255 //1\n",
    "        pixel[0] = value\n",
    "        pixel[1] = value\n",
    "        pixel[2] = value\n",
    "\n",
    "power_law_image = Image.fromarray(np_power_law)"
   ]
  },
  {
   "cell_type": "code",
   "execution_count": null,
   "metadata": {},
   "outputs": [],
   "source": [
    "### Pangkat 2"
   ]
  },
  {
   "cell_type": "code",
   "execution_count": null,
   "metadata": {},
   "outputs": [],
   "source": [
    "gray_image"
   ]
  },
  {
   "cell_type": "code",
   "execution_count": null,
   "metadata": {},
   "outputs": [],
   "source": [
    "power_law_image"
   ]
  },
  {
   "cell_type": "code",
   "execution_count": null,
   "metadata": {},
   "outputs": [],
   "source": [
    "# duplicate gambar original\n",
    "np_power_law_2 = np_gray.copy()\n",
    "\n",
    "# ubah valuenya\n",
    "for row_index in range(len(np_original)):\n",
    "    for column_index in range(len(np_original)):\n",
    "        pixel = np_power_law_2[row_index][column_index]\n",
    "        value = pixel[0]\n",
    "        value = (value/255) ** 0.5 * 255 //1\n",
    "        pixel[0] = value\n",
    "        pixel[1] = value\n",
    "        pixel[2] = value\n",
    "\n",
    "power_law_2_image = Image.fromarray(np_power_law_2)"
   ]
  },
  {
   "cell_type": "markdown",
   "metadata": {},
   "source": [
    "### Pangkat Setengah"
   ]
  },
  {
   "cell_type": "code",
   "execution_count": null,
   "metadata": {},
   "outputs": [],
   "source": [
    "gray_image"
   ]
  },
  {
   "cell_type": "code",
   "execution_count": null,
   "metadata": {},
   "outputs": [],
   "source": [
    "power_law_2_image"
   ]
  },
  {
   "cell_type": "markdown",
   "metadata": {},
   "source": [
    "## Bit Plane Slicing"
   ]
  },
  {
   "cell_type": "code",
   "execution_count": null,
   "metadata": {},
   "outputs": [],
   "source": [
    "# duplicate gambar original\n",
    "np_bit_1 = np_gray.copy()\n",
    "\n",
    "# ubah valuenya\n",
    "for row_index in range(len(np_original)):\n",
    "    for column_index in range(len(np_original)):\n",
    "        pixel = np_bit_1[row_index][column_index]\n",
    "        if pixel[0] & 1 :\n",
    "            value = 1\n",
    "        else:\n",
    "            value = 0\n",
    "        pixel[0] = value\n",
    "        pixel[1] = value\n",
    "        pixel[2] = value\n",
    "\n",
    "bit_1_image = Image.fromarray(np_bit_1)"
   ]
  },
  {
   "cell_type": "code",
   "execution_count": null,
   "metadata": {},
   "outputs": [],
   "source": [
    "bit_1_image"
   ]
  },
  {
   "cell_type": "code",
   "execution_count": null,
   "metadata": {},
   "outputs": [],
   "source": [
    "# duplicate gambar original\n",
    "np_bit_2 = np_gray.copy()\n",
    "\n",
    "# ubah valuenya\n",
    "for row_index in range(len(np_original)):\n",
    "    for column_index in range(len(np_original)):\n",
    "        pixel = np_bit_2[row_index][column_index]\n",
    "        if pixel[0] & 2 :\n",
    "            value = 2\n",
    "        else:\n",
    "            value = 0\n",
    "        pixel[0] = value\n",
    "        pixel[1] = value\n",
    "        pixel[2] = value\n",
    "\n",
    "bit_2_image = Image.fromarray(np_bit_2)"
   ]
  },
  {
   "cell_type": "code",
   "execution_count": null,
   "metadata": {},
   "outputs": [],
   "source": [
    "bit_2_image"
   ]
  },
  {
   "cell_type": "code",
   "execution_count": null,
   "metadata": {},
   "outputs": [],
   "source": [
    "# duplicate gambar original\n",
    "np_bit_3 = np_gray.copy()\n",
    "\n",
    "# ubah valuenya\n",
    "for row_index in range(len(np_original)):\n",
    "    for column_index in range(len(np_original)):\n",
    "        pixel = np_bit_3[row_index][column_index]\n",
    "        if pixel[0] & 4 :\n",
    "            value = 4\n",
    "        else:\n",
    "            value = 0\n",
    "        pixel[0] = value\n",
    "        pixel[1] = value\n",
    "        pixel[2] = value\n",
    "\n",
    "bit_3_image = Image.fromarray(np_bit_3)"
   ]
  },
  {
   "cell_type": "code",
   "execution_count": null,
   "metadata": {},
   "outputs": [],
   "source": [
    "bit_3_image"
   ]
  },
  {
   "cell_type": "code",
   "execution_count": null,
   "metadata": {},
   "outputs": [],
   "source": [
    "# duplicate gambar original\n",
    "np_bit_4 = np_gray.copy()\n",
    "\n",
    "# ubah valuenya\n",
    "for row_index in range(len(np_original)):\n",
    "    for column_index in range(len(np_original)):\n",
    "        pixel = np_bit_4[row_index][column_index]\n",
    "        if pixel[0] & 8 :\n",
    "            value = 8\n",
    "        else:\n",
    "            value = 0\n",
    "        pixel[0] = value\n",
    "        pixel[1] = value\n",
    "        pixel[2] = value\n",
    "\n",
    "bit_4_image = Image.fromarray(np_bit_4)\n",
    "bit_4_image"
   ]
  },
  {
   "cell_type": "code",
   "execution_count": null,
   "metadata": {},
   "outputs": [],
   "source": [
    "# duplicate gambar original\n",
    "np_bit_5 = np_gray.copy()\n",
    "\n",
    "# ubah valuenya\n",
    "for row_index in range(len(np_original)):\n",
    "    for column_index in range(len(np_original)):\n",
    "        pixel = np_bit_5[row_index][column_index]\n",
    "        if pixel[0] & 16 :\n",
    "            value = 16\n",
    "        else:\n",
    "            value = 0\n",
    "        pixel[0] = value\n",
    "        pixel[1] = value\n",
    "        pixel[2] = value\n",
    "\n",
    "bit_5_image = Image.fromarray(np_bit_5)\n",
    "bit_5_image"
   ]
  },
  {
   "cell_type": "code",
   "execution_count": null,
   "metadata": {},
   "outputs": [],
   "source": [
    "# duplicate gambar original\n",
    "np_bit_6 = np_gray.copy()\n",
    "\n",
    "# ubah valuenya\n",
    "for row_index in range(len(np_original)):\n",
    "    for column_index in range(len(np_original)):\n",
    "        pixel = np_bit_6[row_index][column_index]\n",
    "        if pixel[0] & 32 :\n",
    "            value = 32\n",
    "        else:\n",
    "            value = 0\n",
    "        pixel[0] = value\n",
    "        pixel[1] = value\n",
    "        pixel[2] = value\n",
    "\n",
    "bit_6_image = Image.fromarray(np_bit_6)\n",
    "bit_6_image"
   ]
  },
  {
   "cell_type": "code",
   "execution_count": null,
   "metadata": {},
   "outputs": [],
   "source": [
    "# duplicate gambar original\n",
    "np_bit_7 = np_gray.copy()\n",
    "\n",
    "# ubah valuenya\n",
    "for row_index in range(len(np_original)):\n",
    "    for column_index in range(len(np_original)):\n",
    "        pixel = np_bit_7[row_index][column_index]\n",
    "        if pixel[0] & 64 :\n",
    "            value = 64\n",
    "        else:\n",
    "            value = 0\n",
    "        pixel[0] = value\n",
    "        pixel[1] = value\n",
    "        pixel[2] = value\n",
    "\n",
    "bit_7_image = Image.fromarray(np_bit_7)\n",
    "bit_7_image"
   ]
  },
  {
   "cell_type": "code",
   "execution_count": null,
   "metadata": {},
   "outputs": [],
   "source": [
    "# duplicate gambar original\n",
    "np_bit_8 = np_gray.copy()\n",
    "\n",
    "# ubah valuenya\n",
    "arr_pixel = np.zeros((256,256),dtype = np.uint8)\n",
    "for row_index in range(len(np_original)):\n",
    "    for column_index in range(len(np_original)):\n",
    "        pixel = np_bit_8[row_index][column_index]\n",
    "        if pixel[0] & 128 :\n",
    "            arr_pixel[row_index][column_index] = pixel[0]\n",
    "            value = 128\n",
    "        else:\n",
    "            value = 0\n",
    "        pixel[0] = value\n",
    "        pixel[1] = value\n",
    "        pixel[2] = value\n",
    "bit_8_image = Image.fromarray(np_bit_8)\n",
    "bit_8_image"
   ]
  },
  {
   "cell_type": "code",
   "execution_count": null,
   "metadata": {},
   "outputs": [],
   "source": []
  },
  {
   "cell_type": "code",
   "execution_count": null,
   "metadata": {},
   "outputs": [],
   "source": []
  },
  {
   "cell_type": "markdown",
   "metadata": {},
   "source": [
    "## Zooming\n",
    "### Pixel Replication"
   ]
  },
  {
   "cell_type": "code",
   "execution_count": null,
   "metadata": {},
   "outputs": [],
   "source": [
    "# duplicate gambar original\n",
    "np_zoom = np.zeros((256*2,256*2,3),dtype=np.uint8)\n",
    "\n",
    "\n",
    "# ubah valuenya\n",
    "for row_index in range(len(np_zoom)):\n",
    "    for column_index in range(len(np_zoom)):\n",
    "        pixel = np_zoom[row_index][column_index]\n",
    "        pixel[0] = np_original[row_index//2][column_index//2][0]\n",
    "        pixel[1] = np_original[row_index//2][column_index//2][1]\n",
    "        pixel[2] = np_original[row_index//2][column_index//2][2]\n",
    "        \n",
    "zoom_image = Image.fromarray(np_zoom)\n",
    "zoom_image.shape"
   ]
  },
  {
   "cell_type": "markdown",
   "metadata": {},
   "source": [
    "### Zero Order Hold"
   ]
  },
  {
   "cell_type": "code",
   "execution_count": null,
   "metadata": {},
   "outputs": [],
   "source": [
    "# duplicate gambar original\n",
    "np_zero_order_hold = np.zeros((256*2-1,256*2-1,3),dtype=np.uint8)\n",
    "\n",
    "\n",
    "# ubah valuenya\n",
    "for row_index in range(len(np_zero_order_hold)):\n",
    "    for column_index in range(len(np_zero_order_hold)):\n",
    "        pixel = np_zero_order_hold[row_index][column_index]\n",
    "        if row_index % 2 == 0 and column_index % 2 == 0:\n",
    "            pixel[0] = np_original[row_index//2][column_index//2][0]\n",
    "            pixel[1] = np_original[row_index//2][column_index//2][1]\n",
    "            pixel[2] = np_original[row_index//2][column_index//2][2]\n",
    "\n",
    "\n",
    "for row_index in range(len(np_zero_order_hold)):\n",
    "    for column_index in range(len(np_zero_order_hold)):\n",
    "        pixel = np_zero_order_hold[row_index][column_index]\n",
    "        if row_index % 2 == 0 and column_index % 2 != 0:\n",
    "            pixel[0] = (np_zero_order_hold[row_index][column_index-1][0]/2 + np_zero_order_hold[row_index][column_index+1][0]/2)//1\n",
    "            pixel[1] = (np_zero_order_hold[row_index][column_index-1][1]/2 + np_zero_order_hold[row_index][column_index+1][1]/2)//1\n",
    "            pixel[2] = (np_zero_order_hold[row_index][column_index-1][2]/2 + np_zero_order_hold[row_index][column_index+1][2]/2)//1\n",
    "\n",
    "for row_index in range(len(np_zero_order_hold)):\n",
    "    for column_index in range(len(np_zero_order_hold)):\n",
    "        pixel = np_zero_order_hold[row_index][column_index]\n",
    "        if pixel[0] == 0:\n",
    "            pixel[0] = (np_zero_order_hold[row_index-1][column_index][0]/2 + np_zero_order_hold[row_index+1][column_index][0]/2)//1\n",
    "            pixel[1] = (np_zero_order_hold[row_index-1][column_index][1]/2 + np_zero_order_hold[row_index+1][column_index][1]/2)//1\n",
    "            pixel[2] = (np_zero_order_hold[row_index-1][column_index][2]/2 + np_zero_order_hold[row_index+1][column_index][2]/2)//1\n",
    "\n",
    "\n",
    "zoh_image = Image.fromarray(np_zero_order_hold)"
   ]
  },
  {
   "cell_type": "code",
   "execution_count": null,
   "metadata": {},
   "outputs": [],
   "source": []
  },
  {
   "cell_type": "code",
   "execution_count": null,
   "metadata": {},
   "outputs": [],
   "source": [
    "zoom_image"
   ]
  },
  {
   "cell_type": "code",
   "execution_count": null,
   "metadata": {},
   "outputs": [],
   "source": [
    "zoh_image"
   ]
  },
  {
   "cell_type": "markdown",
   "metadata": {},
   "source": [
    "## Transformation\n",
    "### Translasi"
   ]
  },
  {
   "cell_type": "code",
   "execution_count": null,
   "metadata": {},
   "outputs": [],
   "source": [
    "# duplicate gambar original\n",
    "np_translate = np.zeros((256,256,3),dtype=np.uint8)\n",
    "\n",
    "translate_matrix = np.array([\n",
    "    [1,0,-50],\n",
    "    [0,1,-50]\n",
    "])\n",
    "\n",
    "# ubah valuenya\n",
    "for row_index in range(len(np_original)):\n",
    "    for column_index in range(len(np_original)):\n",
    "        position_matrix = np.array([[row_index+1],[column_index+1],[1]])\n",
    "        new_position = translate_matrix.dot(position_matrix)\n",
    "        new_row_index = new_position[0][0]-1\n",
    "        new_col_index = new_position[1][0]-1\n",
    "        if (0 <= new_col_index < 256) and (0 <= new_row_index < 256):\n",
    "            pixel = np_translate[new_row_index][new_col_index]\n",
    "            pixel[0] = np_original[row_index][column_index][0]\n",
    "            pixel[1] = np_original[row_index][column_index][1]\n",
    "            pixel[2] = np_original[row_index][column_index][2]\n",
    "translated_image = Image.fromarray(np_translate)\n",
    "translated_image"
   ]
  },
  {
   "cell_type": "code",
   "execution_count": null,
   "metadata": {},
   "outputs": [],
   "source": []
  },
  {
   "cell_type": "markdown",
   "metadata": {},
   "source": [
    "### Scale"
   ]
  },
  {
   "cell_type": "code",
   "execution_count": null,
   "metadata": {},
   "outputs": [],
   "source": [
    "# duplicate gambar original\n",
    "np_scale = np.zeros((256,256,3),dtype=np.uint8)\n",
    "\n",
    "scale_matrix = np.array([\n",
    "    [0.8,0],\n",
    "    [0,0.5]\n",
    "])\n",
    "\n",
    "# ubah valuenya\n",
    "for row_index in range(len(np_original)):\n",
    "    for column_index in range(len(np_original)):\n",
    "        position_matrix = np.array([[row_index+1],[column_index+1]])\n",
    "        new_position = scale_matrix.dot(position_matrix)\n",
    "        new_row_index = int(new_position[0][0]-1)\n",
    "        new_col_index = int(new_position[1][0]-1)\n",
    "        if new_row_index < 0:\n",
    "            new_row_index += 255\n",
    "        if (0 <= new_col_index < 256) and (0 <= new_row_index < 256):\n",
    "            pixel = np_scale[new_row_index][new_col_index]\n",
    "            pixel[0] = np_original[row_index][column_index][0]\n",
    "            pixel[1] = np_original[row_index][column_index][1]\n",
    "            pixel[2] = np_original[row_index][column_index][2]\n",
    "scale_image = Image.fromarray(np_scale)\n",
    "scale_image"
   ]
  },
  {
   "cell_type": "code",
   "execution_count": null,
   "metadata": {},
   "outputs": [],
   "source": []
  },
  {
   "cell_type": "markdown",
   "metadata": {},
   "source": [
    "### Shear"
   ]
  },
  {
   "cell_type": "code",
   "execution_count": null,
   "metadata": {},
   "outputs": [],
   "source": [
    "# duplicate gambar original\n",
    "np_shear = np.zeros((256,256,3),dtype=np.uint8)\n",
    "\n",
    "shear_matrix = np.array([\n",
    "    [1,0.3],\n",
    "    [0,1]\n",
    "])\n",
    "\n",
    "# ubah valuenya\n",
    "for row_index in range(len(np_original)):\n",
    "    for column_index in range(len(np_original)):\n",
    "        position_matrix = np.array([[row_index+1],[column_index+1]])\n",
    "        new_position = shear_matrix.dot(position_matrix)\n",
    "        new_row_index = int(new_position[0][0]-1)\n",
    "        new_col_index = int(new_position[1][0]-1)\n",
    "        if (0 <= new_col_index < 256) and (0 <= new_row_index < 256):\n",
    "            pixel = np_shear[new_row_index][new_col_index]\n",
    "            pixel[0] = np_original[row_index][column_index][0]\n",
    "            pixel[1] = np_original[row_index][column_index][1]\n",
    "            pixel[2] = np_original[row_index][column_index][2]\n",
    "shear_image = Image.fromarray(np_shear)\n",
    "shear_image"
   ]
  },
  {
   "cell_type": "markdown",
   "metadata": {},
   "source": [
    "### Rotated"
   ]
  },
  {
   "cell_type": "code",
   "execution_count": null,
   "metadata": {},
   "outputs": [],
   "source": [
    "# duplicate gambar original\n",
    "np_rotate = np.zeros((256,256,3),dtype=np.uint8)\n",
    "\n",
    "rotate_matrix = np.array([\n",
    "    [np.cos(np.deg2rad(45)),np.sin(np.deg2rad(45))],\n",
    "    [0-np.sin(np.deg2rad(45)),np.cos(np.deg2rad(45))]\n",
    "])\n",
    "\n",
    "# ubah valuenya\n",
    "for row_index in range(len(np_original)):\n",
    "    for column_index in range(len(np_original)):\n",
    "        position_matrix = np.array([[row_index+1],[column_index+1]])\n",
    "        new_position = rotate_matrix.dot(position_matrix)\n",
    "        new_row_index = int(new_position[0][0]-1)\n",
    "        new_col_index = int(new_position[1][0]-1)\n",
    "        if (0 <= new_col_index < 256) and (0 <= new_row_index < 256):\n",
    "            pixel = np_rotate[new_row_index][new_col_index]\n",
    "            pixel[0] = np_original[row_index][column_index][0]\n",
    "            pixel[1] = np_original[row_index][column_index][1]\n",
    "            pixel[2] = np_original[row_index][column_index][2]\n",
    "rot_image = Image.fromarray(np_rotate)\n",
    "rot_image"
   ]
  },
  {
   "cell_type": "markdown",
   "metadata": {},
   "source": [
    "## Mirror"
   ]
  },
  {
   "cell_type": "code",
   "execution_count": null,
   "metadata": {},
   "outputs": [],
   "source": [
    "# duplicate gambar original\n",
    "np_mir_y = np.zeros((256,256,3),dtype=np.uint8)\n",
    "\n",
    "mir_y_matrix = np.array([\n",
    "    [1,0],\n",
    "    [0,-1]\n",
    "])\n",
    "\n",
    "# ubah valuenya\n",
    "for row_index in range(len(np_original)):\n",
    "    for column_index in range(len(np_original)):\n",
    "        position_matrix = np.array([[row_index+1],[column_index+1]])\n",
    "        new_position = mir_y_matrix.dot(position_matrix)\n",
    "        new_row_index = int(new_position[0][0]-1)\n",
    "        new_col_index = int(new_position[1][0]-1)\n",
    "        if new_col_index < 0:\n",
    "            new_col_index += 255\n",
    "        if (0 <= new_col_index < 256) and (0 <= new_row_index < 256):\n",
    "            pixel = np_mir_y[new_row_index][new_col_index]\n",
    "            pixel[0] = np_original[row_index][column_index][0]\n",
    "            pixel[1] = np_original[row_index][column_index][1]\n",
    "            pixel[2] = np_original[row_index][column_index][2]\n",
    "mir_y_image = Image.fromarray(np_mir_y)\n",
    "mir_y_image"
   ]
  },
  {
   "cell_type": "code",
   "execution_count": null,
   "metadata": {},
   "outputs": [],
   "source": [
    "# duplicate gambar original\n",
    "np_mir_x = np.zeros((256,256,3),dtype=np.uint8)\n",
    "\n",
    "mir_x_matrix = np.array([\n",
    "    [-1,0],\n",
    "    [0,1]\n",
    "])\n",
    "\n",
    "# ubah valuenya\n",
    "for row_index in range(len(np_original)):\n",
    "    for column_index in range(len(np_original)):\n",
    "        position_matrix = np.array([[row_index+1],[column_index+1]])\n",
    "        new_position = mir_x_matrix.dot(position_matrix)\n",
    "        new_row_index = int(new_position[0][0]-1)\n",
    "        new_col_index = int(new_position[1][0]-1)\n",
    "        if new_row_index < 0:\n",
    "            new_row_index += 255\n",
    "        if (0 <= new_col_index < 256) and (0 <= new_row_index < 256):\n",
    "            pixel = np_mir_x[new_row_index][new_col_index]\n",
    "            pixel[0] = np_original[row_index][column_index][0]\n",
    "            pixel[1] = np_original[row_index][column_index][1]\n",
    "            pixel[2] = np_original[row_index][column_index][2]\n",
    "mir_x_image = Image.fromarray(np_mir_x)\n",
    "mir_x_image"
   ]
  },
  {
   "cell_type": "markdown",
   "metadata": {},
   "source": [
    "## Histogram"
   ]
  },
  {
   "cell_type": "code",
   "execution_count": null,
   "metadata": {},
   "outputs": [],
   "source": [
    "import pandas as pd\n",
    "import matplotlib.pyplot as plt\n",
    "import seaborn as sns"
   ]
  },
  {
   "cell_type": "code",
   "execution_count": null,
   "metadata": {},
   "outputs": [],
   "source": [
    "arr_data = np.zeros(256,dtype=np.uint8)\n",
    "\n",
    "for row in np_gray:\n",
    "    for pixel in row:\n",
    "        arr_data[pixel[0]]+=1\n",
    "        \n",
    "df_gray = pd.DataFrame(arr_data,columns=['Freq'])"
   ]
  },
  {
   "cell_type": "code",
   "execution_count": null,
   "metadata": {},
   "outputs": [],
   "source": [
    "df_gray.head()"
   ]
  },
  {
   "cell_type": "code",
   "execution_count": null,
   "metadata": {},
   "outputs": [],
   "source": [
    "df_gray.sort_values(by='Freq')"
   ]
  },
  {
   "cell_type": "code",
   "execution_count": null,
   "metadata": {},
   "outputs": [],
   "source": [
    "plt.figure(figsize=(10,5))\n",
    "plt.bar(range(256),arr_data,align='center', alpha=0.5)\n",
    "plt.show()"
   ]
  },
  {
   "cell_type": "code",
   "execution_count": null,
   "metadata": {},
   "outputs": [],
   "source": []
  }
 ],
 "metadata": {
  "kernelspec": {
   "display_name": "Python 3",
   "language": "python",
   "name": "python3"
  },
  "language_info": {
   "codemirror_mode": {
    "name": "ipython",
    "version": 3
   },
   "file_extension": ".py",
   "mimetype": "text/x-python",
   "name": "python",
   "nbconvert_exporter": "python",
   "pygments_lexer": "ipython3",
   "version": "3.8.0"
  }
 },
 "nbformat": 4,
 "nbformat_minor": 4
}
